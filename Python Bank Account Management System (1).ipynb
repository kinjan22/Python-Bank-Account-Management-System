{
 "cells": [
  {
   "cell_type": "markdown",
   "id": "4c40f954-15f7-488e-ae97-95575e2a6081",
   "metadata": {},
   "source": [
    "## Python Bank Account Management System"
   ]
  },
  {
   "cell_type": "markdown",
   "id": "e0d3bc10-24f7-46ef-94b8-5d3cedb85cd3",
   "metadata": {},
   "source": [
    "### Objective:\n",
    "Create a Python program that simulates a bank account management system. The system should allow users to create and manage bank accounts, perform transactions, and retrieve relevant details. The project should incorporate the key Python concepts you’ve learned, such as variables, data structures, functions, file handling, and modules."
   ]
  },
  {
   "cell_type": "code",
   "execution_count": 18,
   "id": "337e06f8-d7f2-4346-b6e1-981cb53a751f",
   "metadata": {},
   "outputs": [
    {
     "name": "stdout",
     "output_type": "stream",
     "text": [
      "---------- Welcome to BACHAT BANK Banking System ----------\n",
      "\n",
      "\n",
      "    MENU OPTIONS:\n",
      "\n",
      "    1. Open an Account\n",
      "    2. View Account Details\n",
      "    3. Perform Transactions (Withdraw/Deposit/Transfer)\n",
      "    4. View Transaction History\n",
      "    5. Exit \n",
      "    \n"
     ]
    },
    {
     "name": "stdin",
     "output_type": "stream",
     "text": [
      "Enter a choice between 1 to 5:  1\n"
     ]
    },
    {
     "name": "stdout",
     "output_type": "stream",
     "text": [
      "\n",
      "\n"
     ]
    },
    {
     "name": "stdin",
     "output_type": "stream",
     "text": [
      "Enter First Name:  kinjan\n",
      "Enter Middle Name:  c\n",
      "Enter Last Name:  chauhan\n"
     ]
    },
    {
     "name": "stdout",
     "output_type": "stream",
     "text": [
      "Full Name: kinjan c chauhan\n"
     ]
    },
    {
     "name": "stdin",
     "output_type": "stream",
     "text": [
      "Enter PAN Card Number:  123456\n",
      "Account Type (savings/current):  savings\n",
      "Create a password (6 characters: 4 letters + 2 digits):  kinj07\n",
      "Enter the initial deposit amount:  6000\n"
     ]
    },
    {
     "name": "stdout",
     "output_type": "stream",
     "text": [
      "\n",
      "!! Account Successfully Created !!\n",
      "\n",
      "Your Username: kinjan426\n",
      "Your Password: kinj07\n",
      "Your Account Number: 6789025315\n",
      "Your Current Balance: ₹6000\n",
      "\n",
      "---------- Welcome to BACHAT BANK Banking System ----------\n",
      "\n",
      "\n",
      "    MENU OPTIONS:\n",
      "\n",
      "    1. Open an Account\n",
      "    2. View Account Details\n",
      "    3. Perform Transactions (Withdraw/Deposit/Transfer)\n",
      "    4. View Transaction History\n",
      "    5. Exit \n",
      "    \n"
     ]
    },
    {
     "name": "stdin",
     "output_type": "stream",
     "text": [
      "Enter a choice between 1 to 5:  2\n"
     ]
    },
    {
     "name": "stdout",
     "output_type": "stream",
     "text": [
      "\n",
      "\n"
     ]
    },
    {
     "name": "stdin",
     "output_type": "stream",
     "text": [
      "Enter your PAN Card Number:  123456\n",
      "Enter your Username:  kinjan426\n",
      "Enter your Password:  kinj07\n"
     ]
    },
    {
     "name": "stdout",
     "output_type": "stream",
     "text": [
      "\n",
      "!! Account Details !!\n",
      "\n",
      "Account Number: 6789025315\n",
      "Account Holder's Name: kinjan c chauhan\n",
      "Account Type: savings\n",
      "Total Balance: ₹6000\n",
      "---------- Welcome to BACHAT BANK Banking System ----------\n",
      "\n",
      "\n",
      "    MENU OPTIONS:\n",
      "\n",
      "    1. Open an Account\n",
      "    2. View Account Details\n",
      "    3. Perform Transactions (Withdraw/Deposit/Transfer)\n",
      "    4. View Transaction History\n",
      "    5. Exit \n",
      "    \n"
     ]
    },
    {
     "name": "stdin",
     "output_type": "stream",
     "text": [
      "Enter a choice between 1 to 5:  3\n"
     ]
    },
    {
     "name": "stdout",
     "output_type": "stream",
     "text": [
      "\n",
      "\n"
     ]
    },
    {
     "name": "stdin",
     "output_type": "stream",
     "text": [
      "Enter your PAN Card Number:  123456\n",
      "Enter your Username:  kinjan426\n",
      "Enter your Password:  kinj07\n"
     ]
    },
    {
     "name": "stdout",
     "output_type": "stream",
     "text": [
      "\n",
      "            1. Deposit\n",
      "            2. Withdraw\n",
      "            3. Transfer\n",
      "            \n"
     ]
    },
    {
     "name": "stdin",
     "output_type": "stream",
     "text": [
      "Enter your choice (1-3):  1\n",
      "Enter the amount to deposit:  2000\n"
     ]
    },
    {
     "name": "stdout",
     "output_type": "stream",
     "text": [
      "Amount Successfully Deposited! New Balance: ₹8000\n",
      "---------- Welcome to BACHAT BANK Banking System ----------\n",
      "\n",
      "\n",
      "    MENU OPTIONS:\n",
      "\n",
      "    1. Open an Account\n",
      "    2. View Account Details\n",
      "    3. Perform Transactions (Withdraw/Deposit/Transfer)\n",
      "    4. View Transaction History\n",
      "    5. Exit \n",
      "    \n"
     ]
    },
    {
     "name": "stdin",
     "output_type": "stream",
     "text": [
      "Enter a choice between 1 to 5:  3\n"
     ]
    },
    {
     "name": "stdout",
     "output_type": "stream",
     "text": [
      "\n",
      "\n"
     ]
    },
    {
     "name": "stdin",
     "output_type": "stream",
     "text": [
      "Enter your PAN Card Number:  3\n"
     ]
    },
    {
     "name": "stdout",
     "output_type": "stream",
     "text": [
      "Incorrect PAN Card Number.\n",
      "---------- Welcome to BACHAT BANK Banking System ----------\n",
      "\n",
      "\n",
      "    MENU OPTIONS:\n",
      "\n",
      "    1. Open an Account\n",
      "    2. View Account Details\n",
      "    3. Perform Transactions (Withdraw/Deposit/Transfer)\n",
      "    4. View Transaction History\n",
      "    5. Exit \n",
      "    \n"
     ]
    },
    {
     "name": "stdin",
     "output_type": "stream",
     "text": [
      "Enter a choice between 1 to 5:  3\n"
     ]
    },
    {
     "name": "stdout",
     "output_type": "stream",
     "text": [
      "\n",
      "\n"
     ]
    },
    {
     "name": "stdin",
     "output_type": "stream",
     "text": [
      "Enter your PAN Card Number:  123456\n",
      "Enter your Username:  kinjan426\n",
      "Enter your Password:  kinj07\n"
     ]
    },
    {
     "name": "stdout",
     "output_type": "stream",
     "text": [
      "\n",
      "            1. Deposit\n",
      "            2. Withdraw\n",
      "            3. Transfer\n",
      "            \n"
     ]
    },
    {
     "name": "stdin",
     "output_type": "stream",
     "text": [
      "Enter your choice (1-3):  2\n",
      "Enter the amount to withdraw:  3000\n"
     ]
    },
    {
     "name": "stdout",
     "output_type": "stream",
     "text": [
      "Withdrawal Successful! New Balance: ₹5000\n",
      "---------- Welcome to BACHAT BANK Banking System ----------\n",
      "\n",
      "\n",
      "    MENU OPTIONS:\n",
      "\n",
      "    1. Open an Account\n",
      "    2. View Account Details\n",
      "    3. Perform Transactions (Withdraw/Deposit/Transfer)\n",
      "    4. View Transaction History\n",
      "    5. Exit \n",
      "    \n"
     ]
    },
    {
     "name": "stdin",
     "output_type": "stream",
     "text": [
      "Enter a choice between 1 to 5:  3\n"
     ]
    },
    {
     "name": "stdout",
     "output_type": "stream",
     "text": [
      "\n",
      "\n"
     ]
    },
    {
     "name": "stdin",
     "output_type": "stream",
     "text": [
      "Enter your PAN Card Number:  123456\n",
      "Enter your Username:  kinjan426\n",
      "Enter your Password:  kinj07\n"
     ]
    },
    {
     "name": "stdout",
     "output_type": "stream",
     "text": [
      "\n",
      "            1. Deposit\n",
      "            2. Withdraw\n",
      "            3. Transfer\n",
      "            \n"
     ]
    },
    {
     "name": "stdin",
     "output_type": "stream",
     "text": [
      "Enter your choice (1-3):  3\n",
      "Enter the amount to transfer:  1000\n"
     ]
    },
    {
     "name": "stdout",
     "output_type": "stream",
     "text": [
      "Transfer Successful! New Balance: ₹4000\n",
      "---------- Welcome to BACHAT BANK Banking System ----------\n",
      "\n",
      "\n",
      "    MENU OPTIONS:\n",
      "\n",
      "    1. Open an Account\n",
      "    2. View Account Details\n",
      "    3. Perform Transactions (Withdraw/Deposit/Transfer)\n",
      "    4. View Transaction History\n",
      "    5. Exit \n",
      "    \n"
     ]
    },
    {
     "name": "stdin",
     "output_type": "stream",
     "text": [
      "Enter a choice between 1 to 5:  4\n"
     ]
    },
    {
     "name": "stdout",
     "output_type": "stream",
     "text": [
      "\n",
      "\n"
     ]
    },
    {
     "name": "stdin",
     "output_type": "stream",
     "text": [
      "Enter your PAN Card Number:  123456\n",
      "Enter your Username:  kinjan426\n",
      "Enter your Password:  kinj07\n"
     ]
    },
    {
     "name": "stdout",
     "output_type": "stream",
     "text": [
      "----------------------------------------------------------------\n",
      "                    Transactions History                    \n",
      "----------------------------------------------------------------\n",
      "Date & Time            Amount       Type                Balance     \n",
      "----------------------------------------------------------------\n",
      "2025-03-07 20:18:11    2000.00      Credited            8000.00     \n",
      "2025-03-07 20:19:22    3000.00      Debited             5000.00     \n",
      "2025-03-07 20:19:48    1000.00      Transferred/Debited 4000.00     \n",
      "----------------------------------------------------------------\n",
      "---------- Welcome to BACHAT BANK Banking System ----------\n",
      "\n",
      "\n",
      "    MENU OPTIONS:\n",
      "\n",
      "    1. Open an Account\n",
      "    2. View Account Details\n",
      "    3. Perform Transactions (Withdraw/Deposit/Transfer)\n",
      "    4. View Transaction History\n",
      "    5. Exit \n",
      "    \n"
     ]
    },
    {
     "name": "stdin",
     "output_type": "stream",
     "text": [
      "Enter a choice between 1 to 5:  5\n"
     ]
    },
    {
     "name": "stdout",
     "output_type": "stream",
     "text": [
      "\n",
      "\n",
      "Exiting the system. Thank you for using BACHAT BANK.\n"
     ]
    }
   ],
   "source": [
    "import random as ran\n",
    "import datetime as dt\n",
    "\n",
    "# Store account details, login credentials, and transaction history\n",
    "account_details = {}\n",
    "login_credentials = {}\n",
    "transactions = {}\n",
    "\n",
    "while True:\n",
    "    print(\"-\" * 10, \"Welcome to BACHAT BANK Banking System\", \"-\" * 10)\n",
    "    print(\"\\n\")\n",
    "\n",
    "    print(\"    MENU OPTIONS:\")\n",
    "    print(\"\"\"\n",
    "    1. Open an Account\n",
    "    2. View Account Details\n",
    "    3. Perform Transactions (Withdraw/Deposit/Transfer)\n",
    "    4. View Transaction History\n",
    "    5. Exit \n",
    "    \"\"\")\n",
    "    choice = int(input(\"Enter a choice between 1 to 5: \"))\n",
    "    print(\"\\n\")\n",
    "\n",
    "    if choice == 1:  # Open an Account\n",
    "        f_name = input(\"Enter First Name: \")\n",
    "        m_name = input(\"Enter Middle Name: \")\n",
    "        l_name = input(\"Enter Last Name: \")\n",
    "        full_name = f_name + \" \" + m_name + \" \" + l_name\n",
    "        print(\"Full Name:\", full_name)\n",
    "\n",
    "        pancard = input(\"Enter PAN Card Number: \")\n",
    "        if pancard in account_details:\n",
    "            print(\"Your account already exists!\")\n",
    "            continue\n",
    "\n",
    "        account_type = input(\"Account Type (savings/current): \").lower()\n",
    "        if account_type not in [\"savings\", \"current\"]:\n",
    "            print(\"Invalid account type. Please choose 'savings' or 'current'.\")\n",
    "            continue\n",
    "\n",
    "        account_number = \"678902\" + str(ran.randint(1000, 9999))\n",
    "\n",
    "        # Generate unique username\n",
    "        user_name = f_name.lower()+str(ran.randint(100, 999))\n",
    "        while user_name in login_credentials:\n",
    "            user_name = f_name.lower() + str(ran.randint(100, 999))\n",
    "\n",
    "        password = input(\"Create a password (6 characters: 4 letters + 2 digits): \")\n",
    "        while not (len(password) == 6 and password[:4].isalpha() and password[4:].isdigit()):\n",
    "            print(\"Invalid password! Must be 4 letters followed by 2 digits (e.g., Abcd12).\")\n",
    "            password = input(\"Enter a valid password: \")\n",
    "\n",
    "        initial_deposit = int(input(\"Enter the initial deposit amount: \"))\n",
    "\n",
    "        # Store account details\n",
    "        account_details[pancard] = {\n",
    "            \"Name\": full_name,\n",
    "            \"Username\": user_name,\n",
    "            \"Password\": password,\n",
    "            \"Account Number\": account_number,\n",
    "            \"Account Type\": account_type,\n",
    "            \"Balance\": initial_deposit\n",
    "        }\n",
    "\n",
    "        # Store login credentials\n",
    "        login_credentials[user_name] = password\n",
    "\n",
    "        # Initialize transaction history\n",
    "        transactions[pancard] = []\n",
    "\n",
    "        print(\"\\n!! Account Successfully Created !!\\n\")\n",
    "        print(f\"Your Username: {user_name}\")\n",
    "        print(f\"Your Password: {password}\")\n",
    "        print(f\"Your Account Number: {account_number}\")\n",
    "        print(f\"Your Current Balance: ₹{initial_deposit}\\n\")\n",
    "\n",
    "    elif choice in [2, 3, 4]:  # For all other choices, ask for PAN card first\n",
    "        pancard = input(\"Enter your PAN Card Number: \")\n",
    "        if pancard not in account_details:\n",
    "            print(\"Incorrect PAN Card Number.\")\n",
    "            continue\n",
    "\n",
    "        user_name = input(\"Enter your Username: \")\n",
    "        password = input(\"Enter your Password: \")\n",
    "\n",
    "        # Validate login\n",
    "        if user_name not in login_credentials or password != login_credentials[user_name]:\n",
    "            print(\"Incorrect Username or Password.\")\n",
    "            continue\n",
    "\n",
    "        if choice == 2:  # View Account Details\n",
    "            details = account_details[pancard]\n",
    "            print(\"\\n!! Account Details !!\\n\")\n",
    "            print(f\"Account Number: {details['Account Number']}\")\n",
    "            print(f\"Account Holder's Name: {details['Name']}\")\n",
    "            print(f\"Account Type: {details['Account Type']}\")\n",
    "            print(f\"Total Balance: ₹{details['Balance']}\")\n",
    "\n",
    "        elif choice == 3:  # Perform Transactions (Deposit, Withdraw, Transfer)\n",
    "            print(\"\"\"\n",
    "            1. Deposit\n",
    "            2. Withdraw\n",
    "            3. Transfer\n",
    "            \"\"\")\n",
    "            n_choice = int(input(\"Enter your choice (1-3): \"))\n",
    "\n",
    "            timestamp = dt.datetime.now()\n",
    "\n",
    "            if n_choice == 1:  # Deposit\n",
    "                amt_deposit = int(input(\"Enter the amount to deposit: \"))\n",
    "                account_details[pancard][\"Balance\"] += amt_deposit\n",
    "                transactions[pancard].append((timestamp, amt_deposit,\"Credited\", account_details[pancard][\"Balance\"]))\n",
    "                print(f\"Amount Successfully Deposited! New Balance: ₹{account_details[pancard]['Balance']}\")\n",
    "\n",
    "            elif n_choice == 2:  # Withdraw\n",
    "                amt_withdraw = int(input(\"Enter the amount to withdraw: \"))\n",
    "                if amt_withdraw > account_details[pancard][\"Balance\"]:\n",
    "                    print(\"Insufficient balance.\")\n",
    "                else:\n",
    "                    account_details[pancard][\"Balance\"] -= amt_withdraw\n",
    "                    transactions[pancard].append((timestamp, amt_withdraw, \"Debited\", account_details[pancard][\"Balance\"]))\n",
    "                    print(f\"Withdrawal Successful! New Balance: ₹{account_details[pancard]['Balance']}\")\n",
    "\n",
    "            elif n_choice == 3:  # Transfer\n",
    "                receiver_pancard = input(\"Enter Recipient's PAN Card Number: \")\n",
    "                if receiver_pancard not in account_details:\n",
    "                    print(\"Recipient account not found.\")\n",
    "                    continue\n",
    "\n",
    "                transfer_amount = int(input(\"Enter the amount to transfer: \"))\n",
    "                if transfer_amount > account_details[pancard][\"Balance\"]:\n",
    "                    print(\"Insufficient balance.\")\n",
    "                else:\n",
    "                    # Deduct from sender\n",
    "                    account_details[pancard][\"Balance\"] -= transfer_amount\n",
    "                    transactions[pancard].append((timestamp, transfer_amount, \"Transferred/Debited\", account_details[pancard][\"Balance\"]))\n",
    "\n",
    "                    print(f\"Transfer Successful! New Balance: ₹{account_details[pancard]['Balance']}\")\n",
    "\n",
    "        elif choice == 4:  # View Transaction History\n",
    "            print(\"-\" * 64)\n",
    "            print(\" \" * 20 + \"Transactions History\" + \" \" * 20)\n",
    "            print(\"-\" * 64)\n",
    "            print(\"{:<22} {:<12} {:<19} {:<12}\".format(\"Date & Time\", \"Amount\", \"Type\", \"Balance\"))\n",
    "            print(\"-\" * 64)\n",
    "\n",
    "            if transactions[pancard]:  \n",
    "                for transaction in transactions[pancard]:\n",
    "                    timestamp, amount, trans_type, balance = transaction\n",
    "                    print(\"{:<22} {:<12.2f} {:<19} {:<12.2f}\".format(\n",
    "                        timestamp.strftime(\"%Y-%m-%d %H:%M:%S\"), amount, trans_type, balance\n",
    "                    ))\n",
    "            else:\n",
    "                print(\"No transactions found for this account.\")\n",
    "\n",
    "            print(\"-\" * 64)\n",
    "\n",
    "    elif choice == 5:  # Exit\n",
    "        print(\"Exiting the system. Thank you for using BACHAT BANK.\")\n",
    "        break\n"
   ]
  }
 ],
 "metadata": {
  "kernelspec": {
   "display_name": "Python 3 (ipykernel)",
   "language": "python",
   "name": "python3"
  },
  "language_info": {
   "codemirror_mode": {
    "name": "ipython",
    "version": 3
   },
   "file_extension": ".py",
   "mimetype": "text/x-python",
   "name": "python",
   "nbconvert_exporter": "python",
   "pygments_lexer": "ipython3",
   "version": "3.13.1"
  }
 },
 "nbformat": 4,
 "nbformat_minor": 5
}
